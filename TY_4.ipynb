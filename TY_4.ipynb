{
 "cells": [
  {
   "cell_type": "markdown",
   "id": "fe3f6227",
   "metadata": {},
   "source": [
    "# This notebook follows TY_3 for each data\n",
    "# Quantification of field size and #field"
   ]
  },
  {
   "cell_type": "code",
   "execution_count": null,
   "id": "e1844ead",
   "metadata": {
    "scrolled": true
   },
   "outputs": [],
   "source": [
    "import numpy as np\n",
    "import os\n",
    "\n",
    "# Define the directory containing the .npy files\n",
    "directory = r\"D:\\2P_DATA\\Alex_data\\Compiled_data\"\n",
    "\n",
    "# List all .npy files in the directory\n",
    "file_list = [file for file in os.listdir(directory) if file.endswith('.npy')]\n",
    "\n",
    "# Load all .npy files into a dictionary with filenames as keys\n",
    "data_dict = {file: np.load(os.path.join(directory, file)) for file in file_list}\n",
    "\n",
    "# Now, data_dict contains all the loaded arrays with filenames as keys\n",
    "for filename, data in data_dict.items():\n",
    "    print(f\"Filename: {filename}\")\n",
    "    print(data)\n"
   ]
  },
  {
   "cell_type": "code",
   "execution_count": null,
   "id": "bbeb2108",
   "metadata": {
    "scrolled": true
   },
   "outputs": [],
   "source": [
    "# Define the criteria for filtering\n",
    "criteria_list = [\n",
    "    \"grid_count_familiar\",\n",
    "    \"grid_count_novel\",\n",
    "    \n",
    "    \"grid_width_familiar\",\n",
    "    \"grid_width_novel\",\n",
    "    \n",
    "]\n",
    "\n",
    "# Create a dictionary to hold the filtered results for each criterion\n",
    "filtered_data = {criteria: {filename: data for filename, data in data_dict.items() if criteria in filename} for criteria in criteria_list}\n",
    "\n",
    "# Print the filtered data for each criterion\n",
    "for criteria, filtered_dict in filtered_data.items():\n",
    "    print(f\"\\nFiles containing '{criteria}':\")\n",
    "    for filename, data in filtered_dict.items():\n",
    "        print(f\"Filename: {filename}\")\n",
    "        print(data)"
   ]
  },
  {
   "cell_type": "code",
   "execution_count": null,
   "id": "55ab9a85",
   "metadata": {},
   "outputs": [],
   "source": [
    "import itertools\n",
    "sequence_data=[]\n",
    "for name, data_array in filtered_data[\"grid_count_familiar\"].items():\n",
    "    sequence_data.append(data_array.tolist())\n",
    "grid_count_familiar = list(itertools.chain.from_iterable(\n",
    "    item if isinstance(item, list) else [item] for item in sequence_data\n",
    "))\n",
    "\n",
    "sequence_data=[]\n",
    "for name, data_array in filtered_data[\"grid_count_novel\"].items():\n",
    "    sequence_data.append(data_array.tolist())\n",
    "grid_count_novel = list(itertools.chain.from_iterable(\n",
    "    item if isinstance(item, list) else [item] for item in sequence_data\n",
    "))\n",
    "\n",
    "sequence_data=[]\n",
    "for name, data_array in filtered_data[\"grid_width_familiar\"].items():\n",
    "    sequence_data.append(data_array.tolist())\n",
    "grid_width_familiar = list(itertools.chain.from_iterable(\n",
    "    item if isinstance(item, list) else [item] for item in sequence_data\n",
    "))\n",
    "\n",
    "sequence_data=[]\n",
    "for name, data_array in filtered_data[\"grid_width_novel\"].items():\n",
    "    sequence_data.append(data_array.tolist())\n",
    "grid_width_novel = list(itertools.chain.from_iterable(\n",
    "    item if isinstance(item, list) else [item] for item in sequence_data\n",
    "))\n",
    "\n",
    "zero_indices = [i for i, value in enumerate(grid_count_novel) if value == 0.0]\n",
    "for index in reversed(zero_indices):\n",
    "    del grid_count_familiar[index]\n",
    "    del grid_count_novel[index]\n",
    "    del grid_width_familiar[index]\n",
    "    del grid_width_novel[index]"
   ]
  },
  {
   "cell_type": "code",
   "execution_count": null,
   "id": "356c1b8d",
   "metadata": {},
   "outputs": [],
   "source": [
    "# Convert lists to numpy arrays\n",
    "grid_count_familiar = np.array(grid_count_familiar)\n",
    "grid_count_novel = np.array(grid_count_novel)\n",
    "grid_width_familiar = np.array(grid_width_familiar)\n",
    "grid_width_novel = np.array(grid_width_novel)\n",
    "\n",
    "# Calculate the average for each criterion, ignoring NaN values\n",
    "average_grid_count_familiar = np.mean(grid_count_familiar)\n",
    "average_grid_count_novel = np.mean(grid_count_novel)\n",
    "average_grid_width_familiar = np.mean(grid_width_familiar)\n",
    "average_grid_width_novel = np.mean(grid_width_novel)"
   ]
  },
  {
   "cell_type": "code",
   "execution_count": null,
   "id": "7f597a74",
   "metadata": {},
   "outputs": [],
   "source": [
    "# Plot the scatter plot\n",
    "plt.figure(figsize=(8, 6))\n",
    "\n",
    "# Scatter plot for 3 months group\n",
    "plt.scatter(np.random.normal(0.98, 0.005, len(grid_width_familiar)), grid_width_familiar, color='gray', label='familiar', alpha=0.5)\n",
    "\n",
    "# Scatter plot for 8 months group\n",
    "plt.scatter(np.random.normal(1.02, 0.005, len(grid_width_novel)), grid_width_novel, color='red', label='novel', alpha=0.5)\n",
    "\n",
    "# Plot mean values\n",
    "plt.scatter([0.98], [average_grid_width_familiar], color='gray', label='Mean_familiar', marker='o', edgecolors='black', s=100)\n",
    "plt.scatter([1.02], [average_grid_width_novel], color='red', label='Mean_novel', marker='o', edgecolors='black', s=100)\n",
    "\n",
    "# Add labels and title\n",
    "plt.ylabel('field width', size=21)\n",
    "plt.title('Spatial field_width', fontsize=21)\n",
    "plt.xticks([0.98, 1.02], ['Familiar', 'Novel'], fontsize=18)\n",
    "plt.yticks(fontsize=18)\n",
    "\n",
    "# Set the y-axis limit\n",
    "plt.ylim(bottom=0)  # Set the minimum y-axis value to 0\n",
    "\n",
    "# Move the legend outside the plot and remove border\n",
    "legend = plt.legend(bbox_to_anchor=(1.05, 1), loc='upper left', fontsize=18, frameon=False)\n",
    "\n",
    "# Remove top and left spines\n",
    "plt.gca().spines['top'].set_visible(False)\n",
    "plt.gca().spines['right'].set_visible(False)\n",
    "\n",
    "# Change border color and thickness\n",
    "for spine in plt.gca().spines.values():\n",
    "    spine.set_color('black')  # Change border color to black\n",
    "    spine.set_linewidth(2)     # Increase border thickness\n",
    "\n",
    "# Show plot\n",
    "plt.grid(False)\n",
    "plt.tight_layout()\n",
    "plt.show()"
   ]
  },
  {
   "cell_type": "code",
   "execution_count": null,
   "id": "da31682e",
   "metadata": {},
   "outputs": [],
   "source": [
    "import pandas as pd\n",
    "from matplotlib.lines import Line2D\n",
    "\n",
    "# Create the plot\n",
    "plt.figure(figsize=(4, 4))\n",
    "\n",
    "# Plot the KDEs\n",
    "sns.histplot(grid_count_familiar, color='grey',stat='percent',discrete=True,label='familiar')\n",
    "sns.histplot(grid_count_novel, color='red',stat='percent',discrete=True,label='novel')\n",
    "\n",
    "#font for x- & y-axis\n",
    "plt.xticks(fontsize=18)\n",
    "plt.yticks(fontsize=18)\n",
    "plt.ylabel('#spatial filds (%)',fontsize=21)\n",
    "\n",
    "#custom_xtick_positions = [(1.25+1)/2,(2+2.25)/2,(2.75+3)/2]\n",
    "custom_xtick_positions=[1,2,3]\n",
    "custom_xtick_labels = ['1','2','3']\n",
    "plt.suptitle(\"#spatial fields\",y=1.0, fontsize='xx-large')\n",
    "plt.xticks(custom_xtick_positions,custom_xtick_labels)\n",
    "\n",
    "# Remove top and left spines\n",
    "plt.gca().spines['top'].set_visible(False)\n",
    "plt.gca().spines['right'].set_visible(False)\n",
    "\n",
    "# Change border color and thickness\n",
    "for spine in plt.gca().spines.values():\n",
    "    spine.set_color('black')  # Change border color to black\n",
    "    spine.set_linewidth(2)     # Increase border thickness\n",
    "    \n",
    "\n",
    "\n",
    "# Move the legend outside the plot and remove border\n",
    "plt.legend(bbox_to_anchor=(0.8, 1), loc='upper left', fontsize=18, frameon=False)\n",
    "\n",
    "plt.show()"
   ]
  },
  {
   "cell_type": "markdown",
   "id": "f2f77151",
   "metadata": {},
   "source": [
    "## Statistics"
   ]
  },
  {
   "cell_type": "code",
   "execution_count": null,
   "id": "2a79f789",
   "metadata": {},
   "outputs": [],
   "source": [
    "from scipy.stats import wilcoxon\n",
    "\n",
    "# Compare familiar vs novel\n",
    "stat, p = wilcoxon(grid_count_familiar, grid_count_novel)\n",
    "   \n",
    "print(\"P-values:\", p)"
   ]
  },
  {
   "cell_type": "code",
   "execution_count": null,
   "id": "bbdcd8f8",
   "metadata": {},
   "outputs": [],
   "source": [
    "from scipy.stats import wilcoxon\n",
    "\n",
    "# Compare familiar vs novel\n",
    "stat, p = wilcoxon(grid_width_familiar, grid_width_novel)\n",
    "   \n",
    "print(\"P-values:\", p)"
   ]
  },
  {
   "cell_type": "code",
   "execution_count": null,
   "id": "98927f69",
   "metadata": {},
   "outputs": [],
   "source": []
  },
  {
   "cell_type": "code",
   "execution_count": null,
   "id": "2e6833f5",
   "metadata": {},
   "outputs": [],
   "source": []
  },
  {
   "cell_type": "code",
   "execution_count": null,
   "id": "7c38fd3d",
   "metadata": {},
   "outputs": [],
   "source": []
  },
  {
   "cell_type": "code",
   "execution_count": null,
   "id": "005c2294",
   "metadata": {},
   "outputs": [],
   "source": []
  },
  {
   "cell_type": "markdown",
   "id": "25f761c3",
   "metadata": {},
   "source": [
    "### Density plots"
   ]
  },
  {
   "cell_type": "code",
   "execution_count": null,
   "id": "01e895d5",
   "metadata": {},
   "outputs": [],
   "source": [
    "# Create the plot\n",
    "plt.figure(figsize=(10, 6))\n",
    "\n",
    "# Plot the KDEs\n",
    "sns.kdeplot(grid_count_familiar, color='grey', linewidth=2,linestyle='-', label='Familiar')\n",
    "sns.kdeplot(grid_count_novel, color='red', linewidth=2,linestyle='-', label='Novel')\n",
    "\n",
    "#font for x- & y-axis\n",
    "plt.xticks(fontsize=18)\n",
    "plt.yticks(fontsize=18)\n",
    "plt.ylabel('Density',fontsize=21)\n",
    "plt.title('Counting spatial fields', fontsize=21)\n",
    "\n",
    "# Remove top and left spines\n",
    "plt.gca().spines['top'].set_visible(False)\n",
    "plt.gca().spines['right'].set_visible(False)\n",
    "\n",
    "# Change border color and thickness\n",
    "for spine in plt.gca().spines.values():\n",
    "    spine.set_color('black')  # Change border color to black\n",
    "    spine.set_linewidth(2)     # Increase border thickness\n",
    "\n",
    "# Move the legend outside the plot and remove border\n",
    "plt.legend(bbox_to_anchor=(0.8, 1), loc='upper left', fontsize=18, frameon=False)\n",
    "\n",
    "plt.show()"
   ]
  },
  {
   "cell_type": "code",
   "execution_count": null,
   "id": "366a403e",
   "metadata": {},
   "outputs": [],
   "source": [
    "# Create the plot\n",
    "plt.figure(figsize=(10, 6))\n",
    "\n",
    "# Plot the KDEs\n",
    "sns.kdeplot(grid_width_familiar, color='gray', linewidth=2,linestyle='-', label='Familiar')\n",
    "sns.kdeplot(grid_width_novel, color='red', linewidth=2,linestyle='-', label='Novel')\n",
    "\n",
    "#font for x- & y-axis\n",
    "plt.xticks(fontsize=18)\n",
    "plt.yticks(fontsize=18)\n",
    "plt.ylabel('Density',fontsize=21)\n",
    "\n",
    "# Remove top and left spines\n",
    "plt.gca().spines['top'].set_visible(False)\n",
    "plt.gca().spines['right'].set_visible(False)\n",
    "\n",
    "# Change border color and thickness\n",
    "for spine in plt.gca().spines.values():\n",
    "    spine.set_color('black')  # Change border color to black\n",
    "    spine.set_linewidth(2)     # Increase border thickness\n",
    "\n",
    "# Move the legend outside the plot and remove border\n",
    "plt.legend(bbox_to_anchor=(0.8, 1), loc='upper left', fontsize=18, frameon=False)\n",
    "\n",
    "plt.show()"
   ]
  },
  {
   "cell_type": "code",
   "execution_count": null,
   "id": "25b6c65f",
   "metadata": {},
   "outputs": [],
   "source": []
  },
  {
   "cell_type": "code",
   "execution_count": null,
   "id": "88e474c5",
   "metadata": {},
   "outputs": [],
   "source": []
  },
  {
   "cell_type": "markdown",
   "id": "a1d81387",
   "metadata": {},
   "source": [
    "## field ratio N/F vs 1st time licking"
   ]
  },
  {
   "cell_type": "code",
   "execution_count": null,
   "id": "db533469",
   "metadata": {},
   "outputs": [],
   "source": [
    "zero_indices = [i for i, value in enumerate(grid_count_novel) if value == 0.0]\n",
    "for index in reversed(zero_indices):\n",
    "    del grid_count_familiar[index]\n",
    "    del grid_count_novel[index]\n",
    "    del grid_width_familiar[index]\n",
    "    del grid_width_novel[index]"
   ]
  },
  {
   "cell_type": "code",
   "execution_count": null,
   "id": "51b06847",
   "metadata": {},
   "outputs": [],
   "source": [
    "filtered_data[\"grid_count_novel\"]"
   ]
  },
  {
   "cell_type": "code",
   "execution_count": null,
   "id": "7cd1c305",
   "metadata": {
    "scrolled": true
   },
   "outputs": [],
   "source": [
    "grid_count_novel=[]\n",
    "for key in filtered_data[\"grid_count_novel\"]:\n",
    "    grid_count_novel.append(np.array(filtered_data[\"grid_count_novel\"][key]))\n",
    "grid_count_novel"
   ]
  },
  {
   "cell_type": "code",
   "execution_count": null,
   "id": "6cee50be",
   "metadata": {},
   "outputs": [],
   "source": [
    "grid_count_familiar=[]\n",
    "for key in filtered_data[\"grid_count_familiar\"]:\n",
    "    grid_count_familiar.append(np.array(filtered_data[\"grid_count_familiar\"][key]))\n",
    "grid_count_familiar"
   ]
  },
  {
   "cell_type": "code",
   "execution_count": null,
   "id": "b0edaf5d",
   "metadata": {},
   "outputs": [],
   "source": [
    "grid_width_familiar=[]\n",
    "for key in filtered_data[\"grid_width_familiar\"]:\n",
    "    grid_width_familiar.append(np.array(filtered_data[\"grid_width_familiar\"][key]))\n",
    "grid_width_familiar"
   ]
  },
  {
   "cell_type": "code",
   "execution_count": null,
   "id": "2ca6d163",
   "metadata": {},
   "outputs": [],
   "source": [
    "grid_width_novel=[]\n",
    "for key in filtered_data[\"grid_width_novel\"]:\n",
    "    grid_width_novel.append(np.array(filtered_data[\"grid_width_novel\"][key]))\n",
    "grid_width_novel"
   ]
  },
  {
   "cell_type": "code",
   "execution_count": null,
   "id": "170093f6",
   "metadata": {},
   "outputs": [],
   "source": [
    "# Remove 0 values from grid_count_novel and filter other datasets\n",
    "filtered_grid_count_novel = []\n",
    "filtered_grid_count_familiar = []\n",
    "filtered_grid_width_novel = []\n",
    "filtered_grid_width_familiar = []\n",
    "\n",
    "for novel_arr, familiar_arr, width_novel_arr, width_familiar_arr in zip(grid_count_novel, grid_count_familiar, grid_width_novel, grid_width_familiar):\n",
    "    # Create a mask for non-zero elements in grid_count_novel\n",
    "    non_zero_mask = novel_arr != 0\n",
    "    # Apply the mask to all arrays\n",
    "    filtered_novel = novel_arr[non_zero_mask]\n",
    "    filtered_familiar = familiar_arr[non_zero_mask]\n",
    "    filtered_width_novel = width_novel_arr[non_zero_mask]\n",
    "    filtered_width_familiar = width_familiar_arr[non_zero_mask]\n",
    "    \n",
    "    # Append the filtered arrays to the result lists\n",
    "    filtered_grid_count_novel.append(filtered_novel)\n",
    "    filtered_grid_count_familiar.append(filtered_familiar)\n",
    "    filtered_grid_width_novel.append(filtered_width_novel)\n",
    "    filtered_grid_width_familiar.append(filtered_width_familiar)\n",
    "\n",
    "print(\"Filtered grid_count_novel:\")\n",
    "for arr in filtered_grid_count_novel:\n",
    "    print(arr)\n",
    "\n",
    "print(\"\\nFiltered grid_count_familiar:\")\n",
    "for arr in filtered_grid_count_familiar:\n",
    "    print(arr)\n",
    "\n",
    "print(\"\\nFiltered grid_width_novel:\")\n",
    "for arr in filtered_grid_width_novel:\n",
    "    print(arr)\n",
    "\n",
    "print(\"\\nFiltered grid_width_familiar:\")\n",
    "for arr in filtered_grid_width_familiar:\n",
    "    print(arr)"
   ]
  },
  {
   "cell_type": "code",
   "execution_count": null,
   "id": "f1e6ec7a",
   "metadata": {},
   "outputs": [],
   "source": [
    "average_count_each_data_novel=[]\n",
    "for data_array in filtered_grid_count_novel:\n",
    "    mean=np.mean(np.array(data_array))\n",
    "    average_count_each_data_novel.append(mean)\n",
    "average_count_each_data_novel"
   ]
  },
  {
   "cell_type": "code",
   "execution_count": null,
   "id": "5ae35535",
   "metadata": {},
   "outputs": [],
   "source": [
    "average_count_each_data_familiar=[]\n",
    "for data_array in filtered_grid_count_familiar:\n",
    "    mean=np.mean(np.array(data_array))\n",
    "    average_count_each_data_familiar.append(mean)\n",
    "average_count_each_data_familiar"
   ]
  },
  {
   "cell_type": "code",
   "execution_count": null,
   "id": "6cfe75f8",
   "metadata": {},
   "outputs": [],
   "source": [
    "average_width_each_data_novel=[]\n",
    "for data_array in filtered_grid_width_novel:\n",
    "    mean=np.mean(np.array(data_array))\n",
    "    average_width_each_data_novel.append(mean)\n",
    "average_width_each_data_novel"
   ]
  },
  {
   "cell_type": "code",
   "execution_count": null,
   "id": "690880a7",
   "metadata": {},
   "outputs": [],
   "source": [
    "average_width_each_data_familiar=[]\n",
    "for data_array in filtered_grid_width_familiar:\n",
    "    mean=np.mean(np.array(data_array))\n",
    "    average_width_each_data_familiar.append(mean)\n",
    "average_width_each_data_familiar"
   ]
  },
  {
   "cell_type": "code",
   "execution_count": null,
   "id": "2cb95eaf",
   "metadata": {},
   "outputs": [],
   "source": [
    "average_width_each_data_nf_ratio=np.array(average_width_each_data_novel)/np.array(average_width_each_data_familiar)\n",
    "average_width_each_data_nf_ratio"
   ]
  },
  {
   "cell_type": "code",
   "execution_count": null,
   "id": "350cdda9",
   "metadata": {},
   "outputs": [],
   "source": [
    "average_count_each_data_nf_ratio=np.array(average_count_each_data_novel)/np.array(average_count_each_data_familiar)\n",
    "average_count_each_data_nf_ratio"
   ]
  },
  {
   "cell_type": "code",
   "execution_count": null,
   "id": "383a005c",
   "metadata": {},
   "outputs": [],
   "source": [
    "import matplotlib.pyplot as plt\n",
    "import numpy as np\n",
    "from scipy.stats import linregress, spearmanr\n",
    "\n",
    "y_values = np.array([18, 2, 1, 2, 2, 13, 2, 6, 4])\n",
    "x_values = average_width_each_data_nf_ratio\n",
    "\n",
    "#remove zero value data\n",
    "y_values=np.delete(y_values,7)\n",
    "y_values=np.delete(y_values,2)\n",
    "y_values=np.delete(y_values,0)\n",
    "x_values=np.delete(x_values,7)\n",
    "x_values=np.delete(x_values,2)\n",
    "x_values=np.delete(x_values,0)\n",
    "\n",
    "# Perform linear regression (Pearson correlation)\n",
    "slope, intercept, r_value, p_value, std_err = linregress(x_values, y_values)\n",
    "\n",
    "# Calculate Spearman correlation\n",
    "spearman_corr, spearman_p_value = spearmanr(x_values, y_values)\n",
    "\n",
    "# Check the significance of the correlations\n",
    "significance_level = 0.05\n",
    "pearson_significance = \"significant\" if p_value < significance_level else \"not significant\"\n",
    "spearman_significance = \"significant\" if spearman_p_value < significance_level else \"not significant\"\n",
    "\n",
    "# Define the regression line\n",
    "regression_line = [slope * x + intercept for x in x_values]\n",
    "\n",
    "# Plotting\n",
    "plt.figure(figsize=(10, 6))\n",
    "plt.scatter(x_values, y_values, color='blue')\n",
    "plt.plot(x_values, regression_line, color='red')\n",
    "plt.xlabel('Width_N/F_ratio')\n",
    "plt.ylabel('First trial of predicted licking')\n",
    "plt.title('Linear Regression and Correlation Analysis')\n",
    "plt.legend()\n",
    "plt.grid(True)\n",
    "\n",
    "# Add correlation and significance information to the plot\n",
    "plt.annotate(f'Pearson correlation: R={r_value:.2f}, p={p_value:.3f} ({pearson_significance})\\n'\n",
    "             f'Spearman correlation: R={spearman_corr:.2f}, p={spearman_p_value:.3f} ({spearman_significance})',\n",
    "             xy=(0.5, 0.95), xycoords='axes fraction', fontsize=12,\n",
    "             horizontalalignment='center', verticalalignment='top',\n",
    "             bbox=dict(boxstyle='round,pad=0.5', edgecolor='black', facecolor='white'))\n",
    "\n",
    "# Show plot\n",
    "plt.show()\n"
   ]
  },
  {
   "cell_type": "code",
   "execution_count": null,
   "id": "114f1977",
   "metadata": {},
   "outputs": [],
   "source": [
    "import matplotlib.pyplot as plt\n",
    "import numpy as np\n",
    "from scipy.stats import linregress, spearmanr\n",
    "\n",
    "y_values = np.array([18, 2, 1, 2, 2, 13, 2, 6, 4])\n",
    "x_values = average_count_each_data_nf_ratio\n",
    "\n",
    "#remove zero value data\n",
    "y_values=np.delete(y_values,7)\n",
    "y_values=np.delete(y_values,2)\n",
    "y_values=np.delete(y_values,0)\n",
    "x_values=np.delete(x_values,7)\n",
    "x_values=np.delete(x_values,2)\n",
    "x_values=np.delete(x_values,0)\n",
    "\n",
    "# Perform linear regression (Pearson correlation)\n",
    "slope, intercept, r_value, p_value, std_err = linregress(x_values, y_values)\n",
    "\n",
    "# Calculate Spearman correlation\n",
    "spearman_corr, spearman_p_value = spearmanr(x_values, y_values)\n",
    "\n",
    "# Check the significance of the correlations\n",
    "significance_level = 0.05\n",
    "pearson_significance = \"significant\" if p_value < significance_level else \"not significant\"\n",
    "spearman_significance = \"significant\" if spearman_p_value < significance_level else \"not significant\"\n",
    "\n",
    "# Define the regression line\n",
    "regression_line = [slope * x + intercept for x in x_values]\n",
    "\n",
    "# Plotting\n",
    "plt.figure(figsize=(10, 6))\n",
    "plt.scatter(x_values, y_values, color='blue')\n",
    "plt.plot(x_values, regression_line, color='red')\n",
    "plt.xlabel('#field_N/F_ratio')\n",
    "plt.ylabel('First trial of predicted licking')\n",
    "plt.title('Linear Regression and Correlation Analysis')\n",
    "plt.legend()\n",
    "plt.grid(True)\n",
    "\n",
    "# Add correlation and significance information to the plot\n",
    "plt.annotate(f'Pearson correlation: R={r_value:.2f}, p={p_value:.3f} ({pearson_significance})\\n'\n",
    "             f'Spearman correlation: R={spearman_corr:.2f}, p={spearman_p_value:.3f} ({spearman_significance})',\n",
    "             xy=(0.5, 0.95), xycoords='axes fraction', fontsize=12,\n",
    "             horizontalalignment='center', verticalalignment='top',\n",
    "             bbox=dict(boxstyle='round,pad=0.5', edgecolor='black', facecolor='white'))\n",
    "\n",
    "# Show plot\n",
    "plt.show()\n"
   ]
  },
  {
   "cell_type": "code",
   "execution_count": null,
   "id": "d08d5390",
   "metadata": {},
   "outputs": [],
   "source": []
  }
 ],
 "metadata": {
  "kernelspec": {
   "display_name": "Python 3 (ipykernel)",
   "language": "python",
   "name": "python3"
  },
  "language_info": {
   "codemirror_mode": {
    "name": "ipython",
    "version": 3
   },
   "file_extension": ".py",
   "mimetype": "text/x-python",
   "name": "python",
   "nbconvert_exporter": "python",
   "pygments_lexer": "ipython3",
   "version": "3.9.12"
  }
 },
 "nbformat": 4,
 "nbformat_minor": 5
}
